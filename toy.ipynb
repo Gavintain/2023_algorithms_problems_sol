{
 "cells": [
  {
   "cell_type": "code",
   "execution_count": 20,
   "metadata": {},
   "outputs": [],
   "source": [
    "def solution(board):\n",
    "    n = len(board)\n",
    "    new_board = [[0]*(n+2) for _ in range(n+2)]\n",
    "    answer=0\n",
    "    for x in range(n):\n",
    "        for y in range(n):\n",
    "            nb_x = x+1\n",
    "            nb_y = y+1\n",
    "            if board[x][y] ==1:\n",
    "                new_board[nb_x][nb_y] = 1\n",
    "                new_board[nb_x-1][nb_y-1] = 1\n",
    "                new_board[nb_x-1][nb_y+1] = 1\n",
    "                new_board[nb_x-1][nb_y] = 1\n",
    "                new_board[nb_x+1][nb_y+1] = 1\n",
    "                new_board[nb_x+1][nb_y] = 1\n",
    "                new_board[nb_x+1][nb_y-1] = 1\n",
    "                new_board[nb_x][nb_y-1] = 1\n",
    "                new_board[nb_x][nb_y+1] = 1\n",
    "\n",
    "    new_board.pop(-1)\n",
    "    new_board.pop(0)\n",
    "\n",
    "    for i in range(n):\n",
    "        print(new_board)\n",
    "        new_board[i].pop(-1)\n",
    "        new_board[i].pop(0)\n",
    "        answer += new_board[i].count(0)\n",
    "\n",
    "    return answer"
   ]
  },
  {
   "cell_type": "code",
   "execution_count": 26,
   "metadata": {},
   "outputs": [
    {
     "name": "stdout",
     "output_type": "stream",
     "text": [
      "{'muzi': set(), 'frodo': {'muzi'}, 'apeach': set(), 'neo': set()}\n",
      "{'muzi': set(), 'frodo': {'apeach', 'muzi'}, 'apeach': set(), 'neo': set()}\n",
      "{'muzi': set(), 'frodo': {'apeach', 'muzi'}, 'apeach': set(), 'neo': {'frodo'}}\n",
      "{'muzi': set(), 'frodo': {'apeach', 'muzi'}, 'apeach': set(), 'neo': {'frodo', 'muzi'}}\n",
      "{'muzi': {'apeach'}, 'frodo': {'apeach', 'muzi'}, 'apeach': set(), 'neo': {'frodo', 'muzi'}}\n",
      "{'muzi': 0, 'frodo': 0, 'apeach': 0, 'neo': 0}\n",
      "{'muzi': 0, 'frodo': 0, 'apeach': 1, 'neo': 0}\n",
      "{'muzi': 1, 'frodo': 0, 'apeach': 1, 'neo': 0}\n",
      "{'muzi': 1, 'frodo': 1, 'apeach': 1, 'neo': 0}\n"
     ]
    },
    {
     "data": {
      "text/plain": [
       "[2, 1, 1, 0]"
      ]
     },
     "execution_count": 26,
     "metadata": {},
     "output_type": "execute_result"
    }
   ],
   "source": [
    "def solution(id_list, report, k):\n",
    "    dict_report_user = {name:set() for name in id_list}\n",
    "    result_table = {name:0 for name in id_list}\n",
    "\n",
    "    for content in report:\n",
    "        tmp = content.split()\n",
    "        dict_report_user[tmp[1]].update([tmp[0]])\n",
    "        \n",
    "    for key in dict_report_user:\n",
    "        report_num = len(dict_report_user[key])\n",
    "        if report_num >=k:\n",
    "            for user in dict_report_user[key]:\n",
    "                result_table[user] +=1\n",
    "        else:\n",
    "            continue\n",
    "    \n",
    "    return list(result_table.values())\n",
    "\n",
    "id_list = [\"muzi\", \"frodo\", \"apeach\", \"neo\"]\n",
    "k = 2\n",
    "report = [\"muzi frodo\",\"apeach frodo\",\"frodo neo\",\"muzi neo\",\"apeach muzi\"]\n",
    "\n",
    "solution(id_list, report, k)"
   ]
  },
  {
   "cell_type": "code",
   "execution_count": 37,
   "metadata": {},
   "outputs": [
    {
     "name": "stdout",
     "output_type": "stream",
     "text": [
      "[4]\n",
      "[4, 3]\n",
      "[4, 3, 1]\n",
      "[4, 3]\n",
      "[4]\n",
      "[4, 2]\n",
      "[4, 2, 4]\n"
     ]
    },
    {
     "data": {
      "text/plain": [
       "2"
      ]
     },
     "execution_count": 37,
     "metadata": {},
     "output_type": "execute_result"
    }
   ],
   "source": [
    "from collections import deque\n",
    "def solution(board, moves):\n",
    "    ans = 0\n",
    "    box = []\n",
    "    l = len(board)\n",
    "    for move in moves:\n",
    "        i = move-1\n",
    "        j=0\n",
    "        p = board[j][i]\n",
    "        board[j][i] = 0\n",
    "        while(p==0):\n",
    "            if j>=l-1:\n",
    "                break\n",
    "            else:\n",
    "                j+=1     \n",
    "                p = board[j][i]\n",
    "                board[j][i] = 0\n",
    "        if p!=0:\n",
    "            if len(box)<1:\n",
    "                box.append(p)\n",
    "                print(box)\n",
    "            else:\n",
    "                q = box.pop()\n",
    "                if p == q:\n",
    "                    ans+=1\n",
    "                    print(box)\n",
    "                    continue\n",
    "                else:\n",
    "                    box.append(q)\n",
    "                    box.append(p)\n",
    "                    print(box)\n",
    "                    continue\n",
    "    return ans\n",
    "\n",
    "board = [[0, 0, 0, 0, 0], [0, 0, 1, 0, 3], [0, 2, 5, 0, 1], [4, 2, 4, 4, 2], [3, 5, 1, 3, 1]]\n",
    "moves = [1, 5, 3, 5, 1, 2, 1, 4]\n",
    "solution(board,moves)"
   ]
  },
  {
   "cell_type": "code",
   "execution_count": 5,
   "metadata": {},
   "outputs": [
    {
     "name": "stdout",
     "output_type": "stream",
     "text": [
      "5 {4: 0}\n",
      "4 {3: 0, 5: 1}\n",
      "3 {7: 0, 4: 2}\n",
      "6 {7: 0}\n",
      "7 {2: 0, 3: 3, 6: 1}\n",
      "2 {1: 0, 7: 5}\n",
      "1 {2: 6}\n",
      "{1: {2: 6}, 2: {1: 0, 7: 5}, 3: {7: 0, 4: 2}, 4: {3: 0, 5: 1}, 5: {4: 0}, 6: {7: 0}, 7: {2: 0, 3: 3, 6: 1}}\n"
     ]
    },
    {
     "data": {
      "text/plain": [
       "1"
      ]
     },
     "execution_count": 5,
     "metadata": {},
     "output_type": "execute_result"
    }
   ],
   "source": [
    "def solution(n, wires):\n",
    "    tree = {i+1 : dict() for i in range(n)}\n",
    "    visited = {i+1 : False for i in range(n)}\n",
    "    for i in wires:\n",
    "        tree[i[0]][i[1]]=0\n",
    "        tree[i[1]][i[0]]=0\n",
    "    def dfs(start):\n",
    "        visited[start]=True #노드를 방문하면 true로\n",
    "        k=0 #k는 start 노드에의해 새로 연결되는 노드의 수 \n",
    "        for next in tree[start]: #node와 연결되는 모든 간선 호출\n",
    "            if not visited[next]: #연결되는 노드를 거치지 않았을때\n",
    "                tree[start][next]= dfs(next)+1 #dfs를 했으므로 노드 하나를 더 연결함\n",
    "                k+=tree[start][next]#next 간선을 통해 연결된 노드를 더함\n",
    "                #ex start 7,next 8,9는 각각 1을 return 해주므로 k=3,dfs(7)은 3을 return함 \n",
    "        print(start,tree[start])\n",
    "        return k\n",
    "    dfs(1)\n",
    "    print(tree)\n",
    "    ans = n\n",
    "    for node in tree:\n",
    "        for key in tree[node]:\n",
    "            ans = min(abs(n-tree[node][key]-tree[node][key]),ans)\n",
    "    return ans\n",
    "\n",
    "n=7\n",
    "wires = [[1,2],[2,7],[3,7],[3,4],[4,5],[6,7]]\n",
    "solution(n, wires)"
   ]
  }
 ],
 "metadata": {
  "kernelspec": {
   "display_name": "Python 3",
   "language": "python",
   "name": "python3"
  },
  "language_info": {
   "codemirror_mode": {
    "name": "ipython",
    "version": 3
   },
   "file_extension": ".py",
   "mimetype": "text/x-python",
   "name": "python",
   "nbconvert_exporter": "python",
   "pygments_lexer": "ipython3",
   "version": "3.11.2"
  },
  "orig_nbformat": 4
 },
 "nbformat": 4,
 "nbformat_minor": 2
}
