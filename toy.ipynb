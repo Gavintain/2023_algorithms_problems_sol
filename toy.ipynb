{
 "cells": [
  {
   "cell_type": "code",
   "execution_count": 20,
   "metadata": {},
   "outputs": [],
   "source": [
    "def solution(board):\n",
    "    n = len(board)\n",
    "    new_board = [[0]*(n+2) for _ in range(n+2)]\n",
    "    answer=0\n",
    "    for x in range(n):\n",
    "        for y in range(n):\n",
    "            nb_x = x+1\n",
    "            nb_y = y+1\n",
    "            if board[x][y] ==1:\n",
    "                new_board[nb_x][nb_y] = 1\n",
    "                new_board[nb_x-1][nb_y-1] = 1\n",
    "                new_board[nb_x-1][nb_y+1] = 1\n",
    "                new_board[nb_x-1][nb_y] = 1\n",
    "                new_board[nb_x+1][nb_y+1] = 1\n",
    "                new_board[nb_x+1][nb_y] = 1\n",
    "                new_board[nb_x+1][nb_y-1] = 1\n",
    "                new_board[nb_x][nb_y-1] = 1\n",
    "                new_board[nb_x][nb_y+1] = 1\n",
    "\n",
    "    new_board.pop(-1)\n",
    "    new_board.pop(0)\n",
    "\n",
    "    for i in range(n):\n",
    "        print(new_board)\n",
    "        new_board[i].pop(-1)\n",
    "        new_board[i].pop(0)\n",
    "        answer += new_board[i].count(0)\n",
    "\n",
    "    return answer"
   ]
  },
  {
   "cell_type": "code",
   "execution_count": 26,
   "metadata": {},
   "outputs": [
    {
     "name": "stdout",
     "output_type": "stream",
     "text": [
      "{'muzi': set(), 'frodo': {'muzi'}, 'apeach': set(), 'neo': set()}\n",
      "{'muzi': set(), 'frodo': {'apeach', 'muzi'}, 'apeach': set(), 'neo': set()}\n",
      "{'muzi': set(), 'frodo': {'apeach', 'muzi'}, 'apeach': set(), 'neo': {'frodo'}}\n",
      "{'muzi': set(), 'frodo': {'apeach', 'muzi'}, 'apeach': set(), 'neo': {'frodo', 'muzi'}}\n",
      "{'muzi': {'apeach'}, 'frodo': {'apeach', 'muzi'}, 'apeach': set(), 'neo': {'frodo', 'muzi'}}\n",
      "{'muzi': 0, 'frodo': 0, 'apeach': 0, 'neo': 0}\n",
      "{'muzi': 0, 'frodo': 0, 'apeach': 1, 'neo': 0}\n",
      "{'muzi': 1, 'frodo': 0, 'apeach': 1, 'neo': 0}\n",
      "{'muzi': 1, 'frodo': 1, 'apeach': 1, 'neo': 0}\n"
     ]
    },
    {
     "data": {
      "text/plain": [
       "[2, 1, 1, 0]"
      ]
     },
     "execution_count": 26,
     "metadata": {},
     "output_type": "execute_result"
    }
   ],
   "source": []
  },
  {
   "cell_type": "code",
   "execution_count": 17,
   "metadata": {},
   "outputs": [
    {
     "data": {
      "text/plain": [
       "5"
      ]
     },
     "execution_count": 17,
     "metadata": {},
     "output_type": "execute_result"
    }
   ],
   "source": [
    "from collections import deque\n",
    "def solution(priorities, location):\n",
    "    \n",
    "    deq = deque([(i,p) for i,p in enumerate(priorities)])\n",
    "    count = 0\n",
    "    while(len(deq)>0):\n",
    "        out = deq.popleft()\n",
    "        if any(out[1]<x[1] for x in deq):\n",
    "            deq.append(out)\n",
    "        else:\n",
    "            count+=1\n",
    "            if out[0] == location:\n",
    "                return count\n",
    "            else:\n",
    "                pass\n",
    "    return count\n",
    "\n",
    "priorities = [1, 1, 9, 1, 1, 1]\n",
    "location = 0\n",
    "solution(priorities, location)"
   ]
  },
  {
   "cell_type": "code",
   "execution_count": 64,
   "metadata": {},
   "outputs": [
    {
     "name": "stdout",
     "output_type": "stream",
     "text": [
      "[[[0 0 0]\n",
      "  [0 0 0]\n",
      "  [0 0 0]\n",
      "  ...\n",
      "  [0 0 0]\n",
      "  [0 0 0]\n",
      "  [0 0 0]]\n",
      "\n",
      " [[0 0 0]\n",
      "  [0 0 0]\n",
      "  [0 0 0]\n",
      "  ...\n",
      "  [0 0 0]\n",
      "  [0 0 0]\n",
      "  [0 0 0]]\n",
      "\n",
      " [[0 0 0]\n",
      "  [0 0 0]\n",
      "  [0 0 0]\n",
      "  ...\n",
      "  [0 0 0]\n",
      "  [0 0 0]\n",
      "  [0 0 0]]\n",
      "\n",
      " ...\n",
      "\n",
      " [[0 0 0]\n",
      "  [0 0 0]\n",
      "  [0 0 0]\n",
      "  ...\n",
      "  [0 0 0]\n",
      "  [0 0 0]\n",
      "  [0 0 0]]\n",
      "\n",
      " [[0 0 0]\n",
      "  [0 0 0]\n",
      "  [0 0 0]\n",
      "  ...\n",
      "  [0 0 0]\n",
      "  [0 0 0]\n",
      "  [0 0 0]]\n",
      "\n",
      " [[0 0 0]\n",
      "  [0 0 0]\n",
      "  [0 0 0]\n",
      "  ...\n",
      "  [0 0 0]\n",
      "  [0 0 0]\n",
      "  [0 0 0]]]\n",
      "4.8.0\n"
     ]
    }
   ],
   "source": [
    "import cv2\n",
    "import os\n",
    "img = cv2.imread('mark3.png')\n",
    "new_img = cv2.resize(img,(16,16))\n",
    "cv2.imwrite('mark11.png',new_img)\n",
    "print(img)\n",
    "print(cv2.__version__)\n"
   ]
  }
 ],
 "metadata": {
  "kernelspec": {
   "display_name": "Python 3",
   "language": "python",
   "name": "python3"
  },
  "language_info": {
   "codemirror_mode": {
    "name": "ipython",
    "version": 3
   },
   "file_extension": ".py",
   "mimetype": "text/x-python",
   "name": "python",
   "nbconvert_exporter": "python",
   "pygments_lexer": "ipython3",
   "version": "3.10.12"
  },
  "orig_nbformat": 4
 },
 "nbformat": 4,
 "nbformat_minor": 2
}
