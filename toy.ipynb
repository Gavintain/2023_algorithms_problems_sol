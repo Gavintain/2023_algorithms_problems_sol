{
 "cells": [
  {
   "cell_type": "code",
   "execution_count": 20,
   "metadata": {},
   "outputs": [],
   "source": [
    "def solution(board):\n",
    "    n = len(board)\n",
    "    new_board = [[0]*(n+2) for _ in range(n+2)]\n",
    "    answer=0\n",
    "    for x in range(n):\n",
    "        for y in range(n):\n",
    "            nb_x = x+1\n",
    "            nb_y = y+1\n",
    "            if board[x][y] ==1:\n",
    "                new_board[nb_x][nb_y] = 1\n",
    "                new_board[nb_x-1][nb_y-1] = 1\n",
    "                new_board[nb_x-1][nb_y+1] = 1\n",
    "                new_board[nb_x-1][nb_y] = 1\n",
    "                new_board[nb_x+1][nb_y+1] = 1\n",
    "                new_board[nb_x+1][nb_y] = 1\n",
    "                new_board[nb_x+1][nb_y-1] = 1\n",
    "                new_board[nb_x][nb_y-1] = 1\n",
    "                new_board[nb_x][nb_y+1] = 1\n",
    "\n",
    "    new_board.pop(-1)\n",
    "    new_board.pop(0)\n",
    "\n",
    "    for i in range(n):\n",
    "        print(new_board)\n",
    "        new_board[i].pop(-1)\n",
    "        new_board[i].pop(0)\n",
    "        answer += new_board[i].count(0)\n",
    "\n",
    "    return answer"
   ]
  },
  {
   "cell_type": "code",
   "execution_count": 44,
   "metadata": {},
   "outputs": [
    {
     "data": {
      "text/plain": [
       "{1, 2, 3}"
      ]
     },
     "execution_count": 44,
     "metadata": {},
     "output_type": "execute_result"
    }
   ],
   "source": [
    "sett = set()\n",
    "tuple_lst = [(1,2),(2,3)]\n",
    "sett.update(tuple_lst[0])\n",
    "sett.update(tuple_lst[1])\n",
    "sett\n"
   ]
  }
 ],
 "metadata": {
  "kernelspec": {
   "display_name": "Python 3",
   "language": "python",
   "name": "python3"
  },
  "language_info": {
   "codemirror_mode": {
    "name": "ipython",
    "version": 3
   },
   "file_extension": ".py",
   "mimetype": "text/x-python",
   "name": "python",
   "nbconvert_exporter": "python",
   "pygments_lexer": "ipython3",
   "version": "3.11.2"
  },
  "orig_nbformat": 4
 },
 "nbformat": 4,
 "nbformat_minor": 2
}
