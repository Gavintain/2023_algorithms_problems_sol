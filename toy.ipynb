{
 "cells": [
  {
   "cell_type": "code",
   "execution_count": 45,
   "metadata": {},
   "outputs": [
    {
     "name": "stdout",
     "output_type": "stream",
     "text": [
      "82\n"
     ]
    }
   ],
   "source": [
    "import math\n",
    "\n",
    "def solution(n, s, a, b, fares):\n",
    "    INF = math.inf\n",
    "    graph = [[INF]*n for _ in range(n)]\n",
    "    for i in range(n):\n",
    "        graph[i][i]=0\n",
    "\n",
    "    for fare in fares:\n",
    "        graph[fare[0]-1][fare[1]-1] = fare[2]\n",
    "        graph[fare[1]-1][fare[0]-1] = fare[2]\n",
    "\n",
    "    for i in range(n):\n",
    "        for j in range(n):\n",
    "            for k in range(n):\n",
    "                x = graph[j][i]\n",
    "                d = graph[i][k]\n",
    "                y = graph[j][k]\n",
    "                if x+d < y:\n",
    "                    graph[j][k] = x+d\n",
    "\n",
    "    min_cost = math.inf\n",
    "    for i in range(n):\n",
    "        cost = graph[s-1][i] + graph[i][a-1] + graph[i][b-1]\n",
    "        min_cost = min(min_cost, cost)\n",
    "\n",
    "    return min_cost\n",
    "\n",
    "n = 6\n",
    "s = 4\n",
    "a = 6\n",
    "b = 2\n",
    "fares = [[4, 1, 10], [3, 5, 24], [5, 6, 2], [3, 1, 41], [5, 1, 24], [4, 6, 50], [2, 4, 66], [2, 3, 22], [1, 6, 25]]\n",
    "\n",
    "print(solution(n, s, a, b, fares))\n"
   ]
  },
  {
   "cell_type": "code",
   "execution_count": 56,
   "metadata": {},
   "outputs": [
    {
     "data": {
      "text/plain": [
       "4"
      ]
     },
     "execution_count": 56,
     "metadata": {},
     "output_type": "execute_result"
    }
   ],
   "source": [
    "lst = [1,2,3,4,5,6,7]\n",
    "lst[-4]"
   ]
  },
  {
   "cell_type": "code",
   "execution_count": 59,
   "metadata": {},
   "outputs": [
    {
     "name": "stdout",
     "output_type": "stream",
     "text": [
      "findall time: 0.107\n",
      "dart loop time: 0.17\n",
      "s2 time: 0.126\n"
     ]
    },
    {
     "data": {
      "text/plain": [
       "23"
      ]
     },
     "execution_count": 59,
     "metadata": {},
     "output_type": "execute_result"
    }
   ],
   "source": [
    "import re\n",
    "import time\n",
    "dartResult = '1S*2T*3S'\n",
    "stime = time.perf_counter()\n",
    "for x in dartResult:\n",
    "    pass\n",
    "etime = time.perf_counter()\n",
    "unit = etime-stime\n",
    "\n",
    "def solution1(dartResult):\n",
    "    bonus = {'S' : 1, 'D' : 2, 'T' : 3}\n",
    "    option = {'' : 1, '*' : 2, '#' : -1}\n",
    "    p = re.compile('(\\d+)([SDT])([*#]?)')\n",
    "    stime = time.perf_counter()\n",
    "    dart = p.findall(dartResult)\n",
    "    etime = time.perf_counter()\n",
    "    print('findall time:',round((etime-stime)/unit,3))\n",
    "    stime = time.perf_counter()\n",
    "    for i in range(len(dart)):\n",
    "        if dart[i][2] == '*' and i > 0:\n",
    "            dart[i-1] *= 2\n",
    "        dart[i] = int(dart[i][0]) ** bonus[dart[i][1]] * option[dart[i][2]]\n",
    "    etime = time.perf_counter()\n",
    "    print('dart loop time:',round((etime-stime)/unit,3))\n",
    "    answer = sum(dart)\n",
    "\n",
    "    return answer\n",
    "\n",
    "\n",
    "def solution2(dartResult):\n",
    "    answer = 0\n",
    "    base = ''\n",
    "    option = False\n",
    "    toggle = False\n",
    "    chr_dir = {'S':1,'D':2,'T':3}\n",
    "    previous = 0\n",
    "\n",
    "    stime = time.perf_counter()\n",
    "    for chr in dartResult:\n",
    "\n",
    "        ## 문자열의 요소가 알파벳인 경우\n",
    "        if chr.isupper() or chr.islower():\n",
    "            ## 일련의 숫자를 다 찾았으므로 토글을 누른다.\n",
    "            toggle = True\n",
    "            base = int(base) ** chr_dir[chr]\n",
    "\n",
    "        ## 문자열의 요소가 알파벳이 아닌 경우\n",
    "        else:\n",
    "            if chr =='*':\n",
    "                option = True\n",
    "            elif chr == '#':\n",
    "                base *= -1\n",
    "            \n",
    "            ## 문자열의 요소가 숫자인 경우\n",
    "            else:\n",
    "\n",
    "                ## 일련의 숫자를 찾는 중인 경우\n",
    "                if not toggle:\n",
    "                    base += chr\n",
    "                \n",
    "                ## 일련의 숫자를 다 찾은 경우\n",
    "                else:\n",
    "                    ## 토글 초기화\n",
    "                    toggle = False\n",
    "\n",
    "                    if option:\n",
    "                        answer += previous + base*2\n",
    "                        option = False\n",
    "                        previous = int(base*2)\n",
    "                    else:\n",
    "                        answer += int(base)\n",
    "                        previous = int(base)\n",
    "                    base = chr\n",
    "        \n",
    "    if option:\n",
    "        answer += previous + int(base)*2\n",
    "        option = False\n",
    "    else:\n",
    "        answer += int(base)\n",
    "\n",
    "    etime = time.perf_counter()\n",
    "    print('s2 time:',round((etime-stime)/unit,3))\n",
    "    return answer\n",
    "\n",
    "dartResult = '1S*2T*3S'\n",
    "solution1(dartResult)\n",
    "solution2(dartResult)\n"
   ]
  },
  {
   "cell_type": "code",
   "execution_count": 64,
   "metadata": {},
   "outputs": [
    {
     "name": "stdout",
     "output_type": "stream",
     "text": [
      "[[[0 0 0]\n",
      "  [0 0 0]\n",
      "  [0 0 0]\n",
      "  ...\n",
      "  [0 0 0]\n",
      "  [0 0 0]\n",
      "  [0 0 0]]\n",
      "\n",
      " [[0 0 0]\n",
      "  [0 0 0]\n",
      "  [0 0 0]\n",
      "  ...\n",
      "  [0 0 0]\n",
      "  [0 0 0]\n",
      "  [0 0 0]]\n",
      "\n",
      " [[0 0 0]\n",
      "  [0 0 0]\n",
      "  [0 0 0]\n",
      "  ...\n",
      "  [0 0 0]\n",
      "  [0 0 0]\n",
      "  [0 0 0]]\n",
      "\n",
      " ...\n",
      "\n",
      " [[0 0 0]\n",
      "  [0 0 0]\n",
      "  [0 0 0]\n",
      "  ...\n",
      "  [0 0 0]\n",
      "  [0 0 0]\n",
      "  [0 0 0]]\n",
      "\n",
      " [[0 0 0]\n",
      "  [0 0 0]\n",
      "  [0 0 0]\n",
      "  ...\n",
      "  [0 0 0]\n",
      "  [0 0 0]\n",
      "  [0 0 0]]\n",
      "\n",
      " [[0 0 0]\n",
      "  [0 0 0]\n",
      "  [0 0 0]\n",
      "  ...\n",
      "  [0 0 0]\n",
      "  [0 0 0]\n",
      "  [0 0 0]]]\n",
      "4.8.0\n"
     ]
    }
   ],
   "source": [
    "import cv2\n",
    "import os\n",
    "img = cv2.imread('mark3.png')\n",
    "new_img = cv2.resize(img,(16,16))\n",
    "cv2.imwrite('mark11.png',new_img)\n",
    "print(img)\n",
    "print(cv2.__version__)\n"
   ]
  }
 ],
 "metadata": {
  "kernelspec": {
   "display_name": "Python 3",
   "language": "python",
   "name": "python3"
  },
  "language_info": {
   "codemirror_mode": {
    "name": "ipython",
    "version": 3
   },
   "file_extension": ".py",
   "mimetype": "text/x-python",
   "name": "python",
   "nbconvert_exporter": "python",
   "pygments_lexer": "ipython3",
   "version": "3.10.12"
  },
  "orig_nbformat": 4
 },
 "nbformat": 4,
 "nbformat_minor": 2
}
