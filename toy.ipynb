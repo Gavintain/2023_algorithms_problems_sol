{
 "cells": [
  {
   "cell_type": "code",
   "execution_count": 20,
   "metadata": {},
   "outputs": [],
   "source": [
    "def solution(board):\n",
    "    n = len(board)\n",
    "    new_board = [[0]*(n+2) for _ in range(n+2)]\n",
    "    answer=0\n",
    "    for x in range(n):\n",
    "        for y in range(n):\n",
    "            nb_x = x+1\n",
    "            nb_y = y+1\n",
    "            if board[x][y] ==1:\n",
    "                new_board[nb_x][nb_y] = 1\n",
    "                new_board[nb_x-1][nb_y-1] = 1\n",
    "                new_board[nb_x-1][nb_y+1] = 1\n",
    "                new_board[nb_x-1][nb_y] = 1\n",
    "                new_board[nb_x+1][nb_y+1] = 1\n",
    "                new_board[nb_x+1][nb_y] = 1\n",
    "                new_board[nb_x+1][nb_y-1] = 1\n",
    "                new_board[nb_x][nb_y-1] = 1\n",
    "                new_board[nb_x][nb_y+1] = 1\n",
    "\n",
    "    new_board.pop(-1)\n",
    "    new_board.pop(0)\n",
    "\n",
    "    for i in range(n):\n",
    "        print(new_board)\n",
    "        new_board[i].pop(-1)\n",
    "        new_board[i].pop(0)\n",
    "        answer += new_board[i].count(0)\n",
    "\n",
    "    return answer"
   ]
  },
  {
   "cell_type": "code",
   "execution_count": 26,
   "metadata": {},
   "outputs": [
    {
     "name": "stdout",
     "output_type": "stream",
     "text": [
      "{'muzi': set(), 'frodo': {'muzi'}, 'apeach': set(), 'neo': set()}\n",
      "{'muzi': set(), 'frodo': {'apeach', 'muzi'}, 'apeach': set(), 'neo': set()}\n",
      "{'muzi': set(), 'frodo': {'apeach', 'muzi'}, 'apeach': set(), 'neo': {'frodo'}}\n",
      "{'muzi': set(), 'frodo': {'apeach', 'muzi'}, 'apeach': set(), 'neo': {'frodo', 'muzi'}}\n",
      "{'muzi': {'apeach'}, 'frodo': {'apeach', 'muzi'}, 'apeach': set(), 'neo': {'frodo', 'muzi'}}\n",
      "{'muzi': 0, 'frodo': 0, 'apeach': 0, 'neo': 0}\n",
      "{'muzi': 0, 'frodo': 0, 'apeach': 1, 'neo': 0}\n",
      "{'muzi': 1, 'frodo': 0, 'apeach': 1, 'neo': 0}\n",
      "{'muzi': 1, 'frodo': 1, 'apeach': 1, 'neo': 0}\n"
     ]
    },
    {
     "data": {
      "text/plain": [
       "[2, 1, 1, 0]"
      ]
     },
     "execution_count": 26,
     "metadata": {},
     "output_type": "execute_result"
    }
   ],
   "source": []
  },
  {
   "cell_type": "code",
   "execution_count": 29,
   "metadata": {},
   "outputs": [
    {
     "name": "stdout",
     "output_type": "stream",
     "text": [
      "[[1, 1, 0, 0], [1, 0, 0, 0], [1, 0, 0, 1], [1, 1, 1, 1]] 2\n",
      "[1, 1, 1, 0] 1\n",
      "[0, 0, 0, 0] 1\n",
      "[1, 0, 1, 1] 1\n",
      "[0, 1, 1, 1] 1\n"
     ]
    },
    {
     "data": {
      "text/plain": [
       "[4, 9]"
      ]
     },
     "execution_count": 29,
     "metadata": {},
     "output_type": "execute_result"
    }
   ],
   "source": [
    "import math\n",
    "def solution(arr):\n",
    "    count_0=0\n",
    "    count_1=0\n",
    "    l = int(math.log2(len(arr)))\n",
    "\n",
    "    def dc(arr,l):\n",
    "        nonlocal count_0\n",
    "        nonlocal count_1\n",
    "        if l<=1:\n",
    "            c= arr[0]\n",
    "            if arr.count(c)==4:\n",
    "                if c==0:\n",
    "                    return 0\n",
    "                elif c==1:\n",
    "                    return 1\n",
    "                else:\n",
    "                    return 3\n",
    "            else:\n",
    "                count_0+=arr.count(0)\n",
    "                count_1+=arr.count(1)\n",
    "                return 3\n",
    "        else:\n",
    "            new_arr=[[],[],[],[]]\n",
    "            for i in range(l):\n",
    "                new_arr[0]+=arr[i][:2**(l-1)]\n",
    "                new_arr[1]+=arr[i][2**(l-1):2**(l)]\n",
    "                new_arr[2]+=arr[i+2**(l-1)][:2**(l-1)]\n",
    "                new_arr[3]+=arr[i+2**(l-1)][2**(l-1):2**(l)]\n",
    "            result = [dc(new_arr[0],l-1),dc(new_arr[1],l-1),dc(new_arr[2],l-1),dc(new_arr[3],l-1)]\n",
    "            c= result[0]\n",
    "            if result.count(c)==4:\n",
    "                if c==0:\n",
    "                    return 0\n",
    "                elif c==1:\n",
    "                    return 1\n",
    "                else:\n",
    "                    return 3\n",
    "            else:\n",
    "                count_0+=result.count(0)\n",
    "                count_1+=result.count(1)\n",
    "                return 3\n",
    "    \n",
    "    ans = dc(arr,l)\n",
    "    if ans==[0]:\n",
    "        return [1,0]\n",
    "    elif ans==[1]:\n",
    "        return[0,1]\n",
    "    else:\n",
    "        return [count_0,count_1]\n",
    "    \n",
    "arr = [[1,1,0,0],[1,0,0,0],[1,0,0,1],[1,1,1,1]]\n",
    "solution(arr)"
   ]
  },
  {
   "cell_type": "code",
   "execution_count": 64,
   "metadata": {},
   "outputs": [
    {
     "name": "stdout",
     "output_type": "stream",
     "text": [
      "[[[0 0 0]\n",
      "  [0 0 0]\n",
      "  [0 0 0]\n",
      "  ...\n",
      "  [0 0 0]\n",
      "  [0 0 0]\n",
      "  [0 0 0]]\n",
      "\n",
      " [[0 0 0]\n",
      "  [0 0 0]\n",
      "  [0 0 0]\n",
      "  ...\n",
      "  [0 0 0]\n",
      "  [0 0 0]\n",
      "  [0 0 0]]\n",
      "\n",
      " [[0 0 0]\n",
      "  [0 0 0]\n",
      "  [0 0 0]\n",
      "  ...\n",
      "  [0 0 0]\n",
      "  [0 0 0]\n",
      "  [0 0 0]]\n",
      "\n",
      " ...\n",
      "\n",
      " [[0 0 0]\n",
      "  [0 0 0]\n",
      "  [0 0 0]\n",
      "  ...\n",
      "  [0 0 0]\n",
      "  [0 0 0]\n",
      "  [0 0 0]]\n",
      "\n",
      " [[0 0 0]\n",
      "  [0 0 0]\n",
      "  [0 0 0]\n",
      "  ...\n",
      "  [0 0 0]\n",
      "  [0 0 0]\n",
      "  [0 0 0]]\n",
      "\n",
      " [[0 0 0]\n",
      "  [0 0 0]\n",
      "  [0 0 0]\n",
      "  ...\n",
      "  [0 0 0]\n",
      "  [0 0 0]\n",
      "  [0 0 0]]]\n",
      "4.8.0\n"
     ]
    }
   ],
   "source": [
    "import cv2\n",
    "import os\n",
    "img = cv2.imread('mark3.png')\n",
    "new_img = cv2.resize(img,(16,16))\n",
    "cv2.imwrite('mark11.png',new_img)\n",
    "print(img)\n",
    "print(cv2.__version__)\n"
   ]
  }
 ],
 "metadata": {
  "kernelspec": {
   "display_name": "Python 3",
   "language": "python",
   "name": "python3"
  },
  "language_info": {
   "codemirror_mode": {
    "name": "ipython",
    "version": 3
   },
   "file_extension": ".py",
   "mimetype": "text/x-python",
   "name": "python",
   "nbconvert_exporter": "python",
   "pygments_lexer": "ipython3",
   "version": "3.10.12"
  },
  "orig_nbformat": 4
 },
 "nbformat": 4,
 "nbformat_minor": 2
}
