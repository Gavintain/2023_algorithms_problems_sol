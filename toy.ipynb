{
 "cells": [
  {
   "cell_type": "code",
   "execution_count": 20,
   "metadata": {},
   "outputs": [],
   "source": [
    "def solution(board):\n",
    "    n = len(board)\n",
    "    new_board = [[0]*(n+2) for _ in range(n+2)]\n",
    "    answer=0\n",
    "    for x in range(n):\n",
    "        for y in range(n):\n",
    "            nb_x = x+1\n",
    "            nb_y = y+1\n",
    "            if board[x][y] ==1:\n",
    "                new_board[nb_x][nb_y] = 1\n",
    "                new_board[nb_x-1][nb_y-1] = 1\n",
    "                new_board[nb_x-1][nb_y+1] = 1\n",
    "                new_board[nb_x-1][nb_y] = 1\n",
    "                new_board[nb_x+1][nb_y+1] = 1\n",
    "                new_board[nb_x+1][nb_y] = 1\n",
    "                new_board[nb_x+1][nb_y-1] = 1\n",
    "                new_board[nb_x][nb_y-1] = 1\n",
    "                new_board[nb_x][nb_y+1] = 1\n",
    "\n",
    "    new_board.pop(-1)\n",
    "    new_board.pop(0)\n",
    "\n",
    "    for i in range(n):\n",
    "        print(new_board)\n",
    "        new_board[i].pop(-1)\n",
    "        new_board[i].pop(0)\n",
    "        answer += new_board[i].count(0)\n",
    "\n",
    "    return answer"
   ]
  },
  {
   "cell_type": "code",
   "execution_count": 26,
   "metadata": {},
   "outputs": [
    {
     "name": "stdout",
     "output_type": "stream",
     "text": [
      "{'muzi': set(), 'frodo': {'muzi'}, 'apeach': set(), 'neo': set()}\n",
      "{'muzi': set(), 'frodo': {'apeach', 'muzi'}, 'apeach': set(), 'neo': set()}\n",
      "{'muzi': set(), 'frodo': {'apeach', 'muzi'}, 'apeach': set(), 'neo': {'frodo'}}\n",
      "{'muzi': set(), 'frodo': {'apeach', 'muzi'}, 'apeach': set(), 'neo': {'frodo', 'muzi'}}\n",
      "{'muzi': {'apeach'}, 'frodo': {'apeach', 'muzi'}, 'apeach': set(), 'neo': {'frodo', 'muzi'}}\n",
      "{'muzi': 0, 'frodo': 0, 'apeach': 0, 'neo': 0}\n",
      "{'muzi': 0, 'frodo': 0, 'apeach': 1, 'neo': 0}\n",
      "{'muzi': 1, 'frodo': 0, 'apeach': 1, 'neo': 0}\n",
      "{'muzi': 1, 'frodo': 1, 'apeach': 1, 'neo': 0}\n"
     ]
    },
    {
     "data": {
      "text/plain": [
       "[2, 1, 1, 0]"
      ]
     },
     "execution_count": 26,
     "metadata": {},
     "output_type": "execute_result"
    }
   ],
   "source": [
    "def solution(id_list, report, k):\n",
    "    dict_report_user = {name:set() for name in id_list}\n",
    "    result_table = {name:0 for name in id_list}\n",
    "\n",
    "    for content in report:\n",
    "        tmp = content.split()\n",
    "        dict_report_user[tmp[1]].update([tmp[0]])\n",
    "        \n",
    "    for key in dict_report_user:\n",
    "        report_num = len(dict_report_user[key])\n",
    "        if report_num >=k:\n",
    "            for user in dict_report_user[key]:\n",
    "                result_table[user] +=1\n",
    "        else:\n",
    "            continue\n",
    "    \n",
    "    return list(result_table.values())\n",
    "\n",
    "id_list = [\"muzi\", \"frodo\", \"apeach\", \"neo\"]\n",
    "k = 2\n",
    "report = [\"muzi frodo\",\"apeach frodo\",\"frodo neo\",\"muzi neo\",\"apeach muzi\"]\n",
    "\n",
    "solution(id_list, report, k)"
   ]
  },
  {
   "cell_type": "code",
   "execution_count": 37,
   "metadata": {},
   "outputs": [
    {
     "name": "stdout",
     "output_type": "stream",
     "text": [
      "[4]\n",
      "[4, 3]\n",
      "[4, 3, 1]\n",
      "[4, 3]\n",
      "[4]\n",
      "[4, 2]\n",
      "[4, 2, 4]\n"
     ]
    },
    {
     "data": {
      "text/plain": [
       "2"
      ]
     },
     "execution_count": 37,
     "metadata": {},
     "output_type": "execute_result"
    }
   ],
   "source": [
    "from collections import deque\n",
    "def solution(board, moves):\n",
    "    ans = 0\n",
    "    box = []\n",
    "    l = len(board)\n",
    "    for move in moves:\n",
    "        i = move-1\n",
    "        j=0\n",
    "        p = board[j][i]\n",
    "        board[j][i] = 0\n",
    "        while(p==0):\n",
    "            if j>=l-1:\n",
    "                break\n",
    "            else:\n",
    "                j+=1     \n",
    "                p = board[j][i]\n",
    "                board[j][i] = 0\n",
    "        if p!=0:\n",
    "            if len(box)<1:\n",
    "                box.append(p)\n",
    "                print(box)\n",
    "            else:\n",
    "                q = box.pop()\n",
    "                if p == q:\n",
    "                    ans+=1\n",
    "                    print(box)\n",
    "                    continue\n",
    "                else:\n",
    "                    box.append(q)\n",
    "                    box.append(p)\n",
    "                    print(box)\n",
    "                    continue\n",
    "    return ans\n",
    "\n",
    "board = [[0, 0, 0, 0, 0], [0, 0, 1, 0, 3], [0, 2, 5, 0, 1], [4, 2, 4, 4, 2], [3, 5, 1, 3, 1]]\n",
    "moves = [1, 5, 3, 5, 1, 2, 1, 4]\n",
    "solution(board,moves)"
   ]
  },
  {
   "cell_type": "code",
   "execution_count": 33,
   "metadata": {},
   "outputs": [
    {
     "name": "stdout",
     "output_type": "stream",
     "text": [
      "[[2], [1, 7], [7, 4], [3, 5], [4], [7], [2, 3, 6]]\n",
      "1 2 [2, 7, 3, 6, 4, 5] 5\n",
      "2 7 [7, 3, 6, 4, 5] 3\n",
      "3 7 [7, 6] 3\n",
      "3 4 [4, 5] 3\n",
      "4 5 [5] 5\n",
      "6 7 [7] 5\n"
     ]
    },
    {
     "data": {
      "text/plain": [
       "3"
      ]
     },
     "execution_count": 33,
     "metadata": {},
     "output_type": "execute_result"
    }
   ],
   "source": [
    "from collections import deque\n",
    "def f(node,lst_neighbor,n):\n",
    "    ans = n\n",
    "    for neighbor in lst_neighbor[node-1]:\n",
    "        visited = []\n",
    "        \n",
    "        x_lst = lst_neighbor[neighbor-1]\n",
    "        x_lst.remove(node)\n",
    "        \n",
    "        unvisited = deque(x_lst)\n",
    "        visited.append(neighbor)\n",
    "        \n",
    "        while(len(unvisited)!=0):\n",
    "            unvisited_nn = unvisited.popleft()\n",
    "            visited.append(unvisited_nn)\n",
    "            for nnn in lst_neighbor[unvisited_nn-1]:\n",
    "                if nnn == node:\n",
    "                    print('arc')\n",
    "                    pass\n",
    "                else:\n",
    "                    if nnn not in visited:\n",
    "                        unvisited.append(nnn)\n",
    "        ans_tmp = abs(n-2*len(visited))\n",
    "        print(node,neighbor,visited,ans_tmp)\n",
    "        if ans_tmp<ans:\n",
    "            ans = ans_tmp\n",
    "    return ans\n",
    "        \n",
    "\n",
    "def solution(n, wires):\n",
    "    lst_neighbor = [[] for _ in range(n)]\n",
    "    \n",
    "    for wire in wires:\n",
    "        lst_neighbor[wire[0]-1].append(wire[1])\n",
    "        lst_neighbor[wire[1]-1].append(wire[0])\n",
    "    search_node_lst = [x for x in range(1,n+1)]\n",
    "    ans = n\n",
    "    for node in search_node_lst:\n",
    "        tmp = f(node,lst_neighbor,n)\n",
    "        if tmp<ans:\n",
    "            ans = tmp\n",
    "    \n",
    "    return ans\n",
    "\n",
    "n=7\n",
    "wires=[[1,2],[2,7],[3,7],[3,4],[4,5],[6,7]]\n",
    "\n",
    "solution(n, wires)"
   ]
  }
 ],
 "metadata": {
  "kernelspec": {
   "display_name": "Python 3",
   "language": "python",
   "name": "python3"
  },
  "language_info": {
   "codemirror_mode": {
    "name": "ipython",
    "version": 3
   },
   "file_extension": ".py",
   "mimetype": "text/x-python",
   "name": "python",
   "nbconvert_exporter": "python",
   "pygments_lexer": "ipython3",
   "version": "3.11.2"
  },
  "orig_nbformat": 4
 },
 "nbformat": 4,
 "nbformat_minor": 2
}
