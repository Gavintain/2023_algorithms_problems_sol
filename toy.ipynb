{
 "cells": [
  {
   "cell_type": "code",
   "execution_count": 20,
   "metadata": {},
   "outputs": [],
   "source": [
    "def solution(board):\n",
    "    n = len(board)\n",
    "    new_board = [[0]*(n+2) for _ in range(n+2)]\n",
    "    answer=0\n",
    "    for x in range(n):\n",
    "        for y in range(n):\n",
    "            nb_x = x+1\n",
    "            nb_y = y+1\n",
    "            if board[x][y] ==1:\n",
    "                new_board[nb_x][nb_y] = 1\n",
    "                new_board[nb_x-1][nb_y-1] = 1\n",
    "                new_board[nb_x-1][nb_y+1] = 1\n",
    "                new_board[nb_x-1][nb_y] = 1\n",
    "                new_board[nb_x+1][nb_y+1] = 1\n",
    "                new_board[nb_x+1][nb_y] = 1\n",
    "                new_board[nb_x+1][nb_y-1] = 1\n",
    "                new_board[nb_x][nb_y-1] = 1\n",
    "                new_board[nb_x][nb_y+1] = 1\n",
    "\n",
    "    new_board.pop(-1)\n",
    "    new_board.pop(0)\n",
    "\n",
    "    for i in range(n):\n",
    "        print(new_board)\n",
    "        new_board[i].pop(-1)\n",
    "        new_board[i].pop(0)\n",
    "        answer += new_board[i].count(0)\n",
    "\n",
    "    return answer"
   ]
  },
  {
   "cell_type": "code",
   "execution_count": 26,
   "metadata": {},
   "outputs": [
    {
     "name": "stdout",
     "output_type": "stream",
     "text": [
      "{'muzi': set(), 'frodo': {'muzi'}, 'apeach': set(), 'neo': set()}\n",
      "{'muzi': set(), 'frodo': {'apeach', 'muzi'}, 'apeach': set(), 'neo': set()}\n",
      "{'muzi': set(), 'frodo': {'apeach', 'muzi'}, 'apeach': set(), 'neo': {'frodo'}}\n",
      "{'muzi': set(), 'frodo': {'apeach', 'muzi'}, 'apeach': set(), 'neo': {'frodo', 'muzi'}}\n",
      "{'muzi': {'apeach'}, 'frodo': {'apeach', 'muzi'}, 'apeach': set(), 'neo': {'frodo', 'muzi'}}\n",
      "{'muzi': 0, 'frodo': 0, 'apeach': 0, 'neo': 0}\n",
      "{'muzi': 0, 'frodo': 0, 'apeach': 1, 'neo': 0}\n",
      "{'muzi': 1, 'frodo': 0, 'apeach': 1, 'neo': 0}\n",
      "{'muzi': 1, 'frodo': 1, 'apeach': 1, 'neo': 0}\n"
     ]
    },
    {
     "data": {
      "text/plain": [
       "[2, 1, 1, 0]"
      ]
     },
     "execution_count": 26,
     "metadata": {},
     "output_type": "execute_result"
    }
   ],
   "source": [
    "def solution(id_list, report, k):\n",
    "    dict_report_user = {name:set() for name in id_list}\n",
    "    result_table = {name:0 for name in id_list}\n",
    "\n",
    "    for content in report:\n",
    "        tmp = content.split()\n",
    "        dict_report_user[tmp[1]].update([tmp[0]])\n",
    "        \n",
    "    for key in dict_report_user:\n",
    "        report_num = len(dict_report_user[key])\n",
    "        if report_num >=k:\n",
    "            for user in dict_report_user[key]:\n",
    "                result_table[user] +=1\n",
    "        else:\n",
    "            continue\n",
    "    \n",
    "    return list(result_table.values())\n",
    "\n",
    "id_list = [\"muzi\", \"frodo\", \"apeach\", \"neo\"]\n",
    "k = 2\n",
    "report = [\"muzi frodo\",\"apeach frodo\",\"frodo neo\",\"muzi neo\",\"apeach muzi\"]\n",
    "solution(id_list, report, k)"
   ]
  },
  {
   "cell_type": "code",
   "execution_count": 5,
   "metadata": {},
   "outputs": [
    {
     "ename": "ValueError",
     "evalue": "too many values to unpack (expected 2)",
     "output_type": "error",
     "traceback": [
      "\u001b[1;31m---------------------------------------------------------------------------\u001b[0m",
      "\u001b[1;31mValueError\u001b[0m                                Traceback (most recent call last)",
      "\u001b[1;32mc:\\Users\\user\\coding_test\\algorithms_problems_sol\\toy.ipynb Cell 3\u001b[0m line \u001b[0;36m9\n\u001b[0;32m      <a href='vscode-notebook-cell:/c%3A/Users/user/coding_test/algorithms_problems_sol/toy.ipynb#W2sZmlsZQ%3D%3D?line=5'>6</a>\u001b[0m     answer \u001b[39m=\u001b[39m \u001b[39m'\u001b[39m\u001b[39m'\u001b[39m\n\u001b[0;32m      <a href='vscode-notebook-cell:/c%3A/Users/user/coding_test/algorithms_problems_sol/toy.ipynb#W2sZmlsZQ%3D%3D?line=6'>7</a>\u001b[0m     \u001b[39mreturn\u001b[39;00m answer\n\u001b[1;32m----> <a href='vscode-notebook-cell:/c%3A/Users/user/coding_test/algorithms_problems_sol/toy.ipynb#W2sZmlsZQ%3D%3D?line=8'>9</a>\u001b[0m solution([\u001b[39m\"\u001b[39;49m\u001b[39mAN\u001b[39;49m\u001b[39m\"\u001b[39;49m, \u001b[39m\"\u001b[39;49m\u001b[39mCF\u001b[39;49m\u001b[39m\"\u001b[39;49m, \u001b[39m\"\u001b[39;49m\u001b[39mMJ\u001b[39;49m\u001b[39m\"\u001b[39;49m, \u001b[39m\"\u001b[39;49m\u001b[39mRT\u001b[39;49m\u001b[39m\"\u001b[39;49m, \u001b[39m\"\u001b[39;49m\u001b[39mNA\u001b[39;49m\u001b[39m\"\u001b[39;49m],[\u001b[39m1\u001b[39;49m,\u001b[39m2\u001b[39;49m,\u001b[39m3\u001b[39;49m,\u001b[39m4\u001b[39;49m,\u001b[39m5\u001b[39;49m])\n",
      "\u001b[1;32mc:\\Users\\user\\coding_test\\algorithms_problems_sol\\toy.ipynb Cell 3\u001b[0m line \u001b[0;36m4\n\u001b[0;32m      <a href='vscode-notebook-cell:/c%3A/Users/user/coding_test/algorithms_problems_sol/toy.ipynb#W2sZmlsZQ%3D%3D?line=1'>2</a>\u001b[0m choice_score \u001b[39m=\u001b[39m {\u001b[39m1\u001b[39m:\u001b[39m-\u001b[39m\u001b[39m3\u001b[39m,\u001b[39m2\u001b[39m:\u001b[39m-\u001b[39m\u001b[39m2\u001b[39m,\u001b[39m3\u001b[39m:\u001b[39m-\u001b[39m\u001b[39m1\u001b[39m,\u001b[39m4\u001b[39m:\u001b[39m0\u001b[39m,\u001b[39m5\u001b[39m:\u001b[39m1\u001b[39m,\u001b[39m6\u001b[39m:\u001b[39m2\u001b[39m,\u001b[39m7\u001b[39m:\u001b[39m3\u001b[39m}\n\u001b[0;32m      <a href='vscode-notebook-cell:/c%3A/Users/user/coding_test/algorithms_problems_sol/toy.ipynb#W2sZmlsZQ%3D%3D?line=2'>3</a>\u001b[0m \u001b[39mtype\u001b[39m \u001b[39m=\u001b[39m {\u001b[39m'\u001b[39m\u001b[39mRT\u001b[39m\u001b[39m'\u001b[39m:\u001b[39m0\u001b[39m,\u001b[39m'\u001b[39m\u001b[39mTR\u001b[39m\u001b[39m'\u001b[39m:\u001b[39m0\u001b[39m,\u001b[39m'\u001b[39m\u001b[39mCF\u001b[39m\u001b[39m'\u001b[39m:\u001b[39m0\u001b[39m,\u001b[39m'\u001b[39m\u001b[39mFC\u001b[39m\u001b[39m'\u001b[39m:\u001b[39m0\u001b[39m,\u001b[39m'\u001b[39m\u001b[39mJM\u001b[39m\u001b[39m'\u001b[39m:\u001b[39m0\u001b[39m,\u001b[39m'\u001b[39m\u001b[39mMJ\u001b[39m\u001b[39m'\u001b[39m:\u001b[39m0\u001b[39m,\u001b[39m'\u001b[39m\u001b[39mAN\u001b[39m\u001b[39m'\u001b[39m:\u001b[39m0\u001b[39m,\u001b[39m'\u001b[39m\u001b[39mNA\u001b[39m\u001b[39m'\u001b[39m:\u001b[39m0\u001b[39m}\n\u001b[1;32m----> <a href='vscode-notebook-cell:/c%3A/Users/user/coding_test/algorithms_problems_sol/toy.ipynb#W2sZmlsZQ%3D%3D?line=3'>4</a>\u001b[0m \u001b[39mfor\u001b[39;00m sur , cho \u001b[39min\u001b[39;00m survey , choices:\n\u001b[0;32m      <a href='vscode-notebook-cell:/c%3A/Users/user/coding_test/algorithms_problems_sol/toy.ipynb#W2sZmlsZQ%3D%3D?line=4'>5</a>\u001b[0m     \u001b[39mtype\u001b[39m[sur] \u001b[39m+\u001b[39m\u001b[39m=\u001b[39m choice_score[cho]\n\u001b[0;32m      <a href='vscode-notebook-cell:/c%3A/Users/user/coding_test/algorithms_problems_sol/toy.ipynb#W2sZmlsZQ%3D%3D?line=5'>6</a>\u001b[0m answer \u001b[39m=\u001b[39m \u001b[39m'\u001b[39m\u001b[39m'\u001b[39m\n",
      "\u001b[1;31mValueError\u001b[0m: too many values to unpack (expected 2)"
     ]
    }
   ],
   "source": [
    "def solution(survey, choices):\n",
    "    choice_score = {1:-3,2:-2,3:-1,4:0,5:1,6:2,7:3}\n",
    "    type = {'RT':0,'TR':0,'CF':0,'FC':0,'JM':0,'MJ':0,'AN':0,'NA':0}\n",
    "    for i in range(len(survey)):\n",
    "        type[survey[i]] += choice_score[choices[i]]\n",
    "    answer = ''\n",
    "    if type['RT'] - type['TR']<=0:\n",
    "        answer+='R'\n",
    "    else:\n",
    "        answer+='T'\n",
    "    if type['CF'] - type['FC']<=0:\n",
    "        answer+='C'\n",
    "    else:\n",
    "        answer+='F'\n",
    "    if type['JM'] - type['MJ']<=0:\n",
    "        answer+='J'\n",
    "    else:\n",
    "        answer+='M'\n",
    "    if type['AN'] - type['NA']<=0:\n",
    "        answer+='A'\n",
    "    else:\n",
    "        answer+='N'\n",
    "    return answer\n"
   ]
  }
 ],
 "metadata": {
  "kernelspec": {
   "display_name": "Python 3",
   "language": "python",
   "name": "python3"
  },
  "language_info": {
   "codemirror_mode": {
    "name": "ipython",
    "version": 3
   },
   "file_extension": ".py",
   "mimetype": "text/x-python",
   "name": "python",
   "nbconvert_exporter": "python",
   "pygments_lexer": "ipython3",
   "version": "3.11.2"
  },
  "orig_nbformat": 4
 },
 "nbformat": 4,
 "nbformat_minor": 2
}
