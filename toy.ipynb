{
 "cells": [
  {
   "cell_type": "code",
   "execution_count": 20,
   "metadata": {},
   "outputs": [],
   "source": [
    "def solution(board):\n",
    "    n = len(board)\n",
    "    new_board = [[0]*(n+2) for _ in range(n+2)]\n",
    "    answer=0\n",
    "    for x in range(n):\n",
    "        for y in range(n):\n",
    "            nb_x = x+1\n",
    "            nb_y = y+1\n",
    "            if board[x][y] ==1:\n",
    "                new_board[nb_x][nb_y] = 1\n",
    "                new_board[nb_x-1][nb_y-1] = 1\n",
    "                new_board[nb_x-1][nb_y+1] = 1\n",
    "                new_board[nb_x-1][nb_y] = 1\n",
    "                new_board[nb_x+1][nb_y+1] = 1\n",
    "                new_board[nb_x+1][nb_y] = 1\n",
    "                new_board[nb_x+1][nb_y-1] = 1\n",
    "                new_board[nb_x][nb_y-1] = 1\n",
    "                new_board[nb_x][nb_y+1] = 1\n",
    "\n",
    "    new_board.pop(-1)\n",
    "    new_board.pop(0)\n",
    "\n",
    "    for i in range(n):\n",
    "        print(new_board)\n",
    "        new_board[i].pop(-1)\n",
    "        new_board[i].pop(0)\n",
    "        answer += new_board[i].count(0)\n",
    "\n",
    "    return answer"
   ]
  },
  {
   "cell_type": "code",
   "execution_count": 26,
   "metadata": {},
   "outputs": [
    {
     "name": "stdout",
     "output_type": "stream",
     "text": [
      "{'muzi': set(), 'frodo': {'muzi'}, 'apeach': set(), 'neo': set()}\n",
      "{'muzi': set(), 'frodo': {'apeach', 'muzi'}, 'apeach': set(), 'neo': set()}\n",
      "{'muzi': set(), 'frodo': {'apeach', 'muzi'}, 'apeach': set(), 'neo': {'frodo'}}\n",
      "{'muzi': set(), 'frodo': {'apeach', 'muzi'}, 'apeach': set(), 'neo': {'frodo', 'muzi'}}\n",
      "{'muzi': {'apeach'}, 'frodo': {'apeach', 'muzi'}, 'apeach': set(), 'neo': {'frodo', 'muzi'}}\n",
      "{'muzi': 0, 'frodo': 0, 'apeach': 0, 'neo': 0}\n",
      "{'muzi': 0, 'frodo': 0, 'apeach': 1, 'neo': 0}\n",
      "{'muzi': 1, 'frodo': 0, 'apeach': 1, 'neo': 0}\n",
      "{'muzi': 1, 'frodo': 1, 'apeach': 1, 'neo': 0}\n"
     ]
    },
    {
     "data": {
      "text/plain": [
       "[2, 1, 1, 0]"
      ]
     },
     "execution_count": 26,
     "metadata": {},
     "output_type": "execute_result"
    }
   ],
   "source": []
  },
  {
   "cell_type": "code",
   "execution_count": 31,
   "metadata": {},
   "outputs": [
    {
     "data": {
      "text/plain": [
       "inf"
      ]
     },
     "execution_count": 31,
     "metadata": {},
     "output_type": "execute_result"
    }
   ],
   "source": [
    "import math\n",
    "from collections import deque\n",
    "\n",
    "def isvalid(cor1,cor2,lx,ly,board):\n",
    "    if (cor1<0)or(cor2<0)or(cor1>=ly)or(cor2>=lx):\n",
    "        return False\n",
    "    if board[cor1][cor2]=='D':\n",
    "        return False\n",
    "    return True\n",
    "\n",
    "def solution(board):\n",
    "        \n",
    "    lx = len(board[0])\n",
    "    ly = len(board)\n",
    "    dir_list = [[-1,0],[1,0],[0,-1],[0,1]]\n",
    "    cordinate = [0,0]\n",
    "    G_cordinate = [0,0]\n",
    "    \n",
    "    for i in range(ly):\n",
    "        for j in range(lx):\n",
    "            if board[i][j] == 'R':\n",
    "                cordinate[0] = i\n",
    "                cordinate[1] = j\n",
    "            elif board[i][j] == 'G':\n",
    "                G_cordinate[0] = i\n",
    "                G_cordinate[1] = j\n",
    "            else:\n",
    "                pass\n",
    "    \n",
    "    ans_map =[[math.inf for _ in range(lx)] for _ in range(ly)]\n",
    "    visit_map = [[4 for _ in range(lx)] for _ in range(ly)]\n",
    "    ans_map[cordinate[0]][cordinate[1]] = 0 \n",
    "    visited = deque([cordinate])\n",
    "    \n",
    "    while(len(visited)>0):\n",
    "        cordinate = visited.popleft()\n",
    "        step = ans_map[cordinate[0]][cordinate[1]]\n",
    "        toggle = 0\n",
    "        while(True):\n",
    "            dir = dir_list[toggle]\n",
    "            new_condinate = [cordinate[0],cordinate[1]]\n",
    "            while(isvalid(new_condinate[0] + dir[0],new_condinate[1] + dir[1],lx,ly,board)):\n",
    "                new_condinate = [new_condinate[0] + dir[0],new_condinate[1] + dir[1]]\n",
    "            if new_condinate == cordinate:\n",
    "                if toggle>=3:\n",
    "                    break\n",
    "                else:\n",
    "                    toggle+=1\n",
    "                    continue\n",
    "            else:\n",
    "                if (step + 1) < ans_map[new_cordinate[0]][new_cordinate[1]]:\n",
    "                    ans_map[new_cordinate[0]][new_cordinate[1]] = step + 1\n",
    "                    visited.append(new_cordinate)\n",
    "                # else:\n",
    "                    # visit_map[new_cordinate[0]][new_cordinate[1]] -=1\n",
    "\n",
    "                # if visit_map[new_cordinate[0]][new_cordinate[1]]<0:\n",
    "                #     break\n",
    "                # else:\n",
    "                if toggle>=3:\n",
    "                    break\n",
    "                else:\n",
    "                    toggle+=1\n",
    "                    continue\n",
    "            \n",
    "    ans = ans_map[G_cordinate[0]][G_cordinate[1]]\n",
    "    if ans == math.inf:\n",
    "        return -1\n",
    "    else:\n",
    "        return ans\n"
   ]
  },
  {
   "cell_type": "code",
   "execution_count": 64,
   "metadata": {},
   "outputs": [
    {
     "name": "stdout",
     "output_type": "stream",
     "text": [
      "[[[0 0 0]\n",
      "  [0 0 0]\n",
      "  [0 0 0]\n",
      "  ...\n",
      "  [0 0 0]\n",
      "  [0 0 0]\n",
      "  [0 0 0]]\n",
      "\n",
      " [[0 0 0]\n",
      "  [0 0 0]\n",
      "  [0 0 0]\n",
      "  ...\n",
      "  [0 0 0]\n",
      "  [0 0 0]\n",
      "  [0 0 0]]\n",
      "\n",
      " [[0 0 0]\n",
      "  [0 0 0]\n",
      "  [0 0 0]\n",
      "  ...\n",
      "  [0 0 0]\n",
      "  [0 0 0]\n",
      "  [0 0 0]]\n",
      "\n",
      " ...\n",
      "\n",
      " [[0 0 0]\n",
      "  [0 0 0]\n",
      "  [0 0 0]\n",
      "  ...\n",
      "  [0 0 0]\n",
      "  [0 0 0]\n",
      "  [0 0 0]]\n",
      "\n",
      " [[0 0 0]\n",
      "  [0 0 0]\n",
      "  [0 0 0]\n",
      "  ...\n",
      "  [0 0 0]\n",
      "  [0 0 0]\n",
      "  [0 0 0]]\n",
      "\n",
      " [[0 0 0]\n",
      "  [0 0 0]\n",
      "  [0 0 0]\n",
      "  ...\n",
      "  [0 0 0]\n",
      "  [0 0 0]\n",
      "  [0 0 0]]]\n",
      "4.8.0\n"
     ]
    }
   ],
   "source": [
    "import cv2\n",
    "import os\n",
    "img = cv2.imread('mark3.png')\n",
    "new_img = cv2.resize(img,(16,16))\n",
    "cv2.imwrite('mark11.png',new_img)\n",
    "print(img)\n",
    "print(cv2.__version__)\n"
   ]
  }
 ],
 "metadata": {
  "kernelspec": {
   "display_name": "Python 3",
   "language": "python",
   "name": "python3"
  },
  "language_info": {
   "codemirror_mode": {
    "name": "ipython",
    "version": 3
   },
   "file_extension": ".py",
   "mimetype": "text/x-python",
   "name": "python",
   "nbconvert_exporter": "python",
   "pygments_lexer": "ipython3",
   "version": "3.10.12"
  },
  "orig_nbformat": 4
 },
 "nbformat": 4,
 "nbformat_minor": 2
}
