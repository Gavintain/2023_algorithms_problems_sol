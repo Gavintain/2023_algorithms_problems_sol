{
 "cells": [
  {
   "cell_type": "code",
   "execution_count": 57,
   "metadata": {},
   "outputs": [
    {
     "name": "stdout",
     "output_type": "stream",
     "text": [
      "7\n",
      "4\n",
      "6\n",
      "9\n",
      "1\n",
      "8\n",
      "5\n",
      "2\n",
      "3\n"
     ]
    },
    {
     "data": {
      "text/plain": [
       "[[7, 4, 6, 9, 1, 8, 5, 2, 3], [9, 6, 5, 8, 1, 4, 3, 2, 7]]"
      ]
     },
     "execution_count": 57,
     "metadata": {},
     "output_type": "execute_result"
    }
   ],
   "source": [
    "from collections import defaultdict\n",
    "import sys\n",
    "sys.setrecursionlimit(10**6)\n",
    "\n",
    "def solution(nodeinfo):\n",
    "    y_node_dict = defaultdict(list)\n",
    "    node_x_dict = defaultdict(int)\n",
    "    node_y_dict = defaultdict(int)\n",
    "    for i in range(len(nodeinfo)):\n",
    "        node_xy = nodeinfo[i]\n",
    "        node_num = i+1\n",
    "        y_node_dict[node_xy[1]].append(node_num)\n",
    "        node_x_dict[node_num] = node_xy[0]\n",
    "        node_y_dict[node_num] = node_xy[1]\n",
    "    \n",
    "    y_lst = sorted(list(y_node_dict.keys()))\n",
    "    max_y = y_lst[-1]\n",
    "    root = y_node_dict[max_y][0]\n",
    "\n",
    "    def consistent_check(parent_lst,node,child):\n",
    "        for ancestor in parent_lst:\n",
    "            if (node_x_dict[node]<node_x_dict[ancestor]) == (node_x_dict[child]<node_x_dict[ancestor]):\n",
    "                pass\n",
    "            else:\n",
    "                return False\n",
    "        return True\n",
    "    \n",
    "    # def has_left(parent_lst,node):\n",
    "    #     node_y = node_y_dict[node]\n",
    "    #     index = y_lst.index(node_y)-1\n",
    "    #     if index<0:\n",
    "    #         return [False,None]\n",
    "    #     else:\n",
    "    #         child_ylevel = y_lst[index]\n",
    "    #         child_lst = y_node_dict[child_ylevel]\n",
    "    #         for child in child_lst:\n",
    "    #             if node_x_dict[child]<node_x_dict[node]:\n",
    "    #                 if consistent_check(parent_lst,node,child):\n",
    "    #                     return [True,child]\n",
    "    #         return [False,None]\n",
    "    \n",
    "    # def has_right(parent_lst,node):\n",
    "    #     node_y = node_y_dict[node]\n",
    "    #     index = y_lst.index(node_y)-1\n",
    "    #     if index<0:\n",
    "    #         return [False,None]\n",
    "    #     else:\n",
    "    #         child_ylevel = y_lst[index]\n",
    "    #         child_lst = y_node_dict[child_ylevel]\n",
    "    #         for child in child_lst:\n",
    "    #             if node_x_dict[child]>node_x_dict[node]:\n",
    "    #                 if consistent_check(parent_lst,node,child):\n",
    "    #                     return [True,child]\n",
    "    #         return [False,None]\n",
    "        \n",
    "    def has_child(parent_lst,node):\n",
    "        node_y = node_y_dict[node]\n",
    "        index = y_lst.index(node_y)-1\n",
    "        exist = False\n",
    "        left = None\n",
    "        right = None\n",
    "        if index<0:\n",
    "            return [False,None,None]\n",
    "        else:\n",
    "            child_ylevel = y_lst[index]\n",
    "            child_lst = y_node_dict[child_ylevel]\n",
    "            for child in child_lst:\n",
    "                if right !=None and left !=None:\n",
    "                    break\n",
    "                else:\n",
    "                    if node_x_dict[child]>node_x_dict[node]:\n",
    "                        if consistent_check(parent_lst,node,child):\n",
    "                            right  = child\n",
    "                            exist = True\n",
    "                    elif node_x_dict[child]<node_x_dict[node]:\n",
    "                        if consistent_check(parent_lst,node,child):\n",
    "                            left = child\n",
    "                            exist = True\n",
    "                    else:\n",
    "                        continue\n",
    "            return [exist,left,right]\n",
    "        \n",
    "    \n",
    "    # def pre_order(parent_lst,node):\n",
    "    #     if node == None:\n",
    "    #         return []\n",
    "    #     else:\n",
    "    #         child = has_child(parent_lst,node)\n",
    "    #         new_parent_lst = parent_lst + [node]\n",
    "    #         if child[0]:\n",
    "    #             return [node] + pre_order(new_parent_lst,child[1]) + pre_order(new_parent_lst,child[2])\n",
    "    #         else:\n",
    "    #             return [node]\n",
    "            \n",
    "    # def post_order(parent_lst,node):\n",
    "    #     if node == None:\n",
    "    #         return []\n",
    "    #     else:\n",
    "    #         child = has_child(parent_lst,node)\n",
    "    #         new_parent_lst = parent_lst + [node]\n",
    "    #         if child[0]:\n",
    "    #             return post_order(new_parent_lst,child[1]) + post_order(new_parent_lst,child[2]) + [node] \n",
    "    #         else:\n",
    "    #             return [node]\n",
    "\n",
    "    answer=[[],[]]\n",
    "\n",
    "    def travel(parent_lst,node):\n",
    "        if node == None:\n",
    "            return []\n",
    "        else:\n",
    "            child = has_child(parent_lst,node)\n",
    "            new_parent_lst = parent_lst + [node]\n",
    "            print(node)\n",
    "            if child[0]:\n",
    "                answer[0].append(node)\n",
    "                travel(new_parent_lst,child[1])\n",
    "                travel(new_parent_lst,child[2])\n",
    "                answer[1].append(node) \n",
    "            else:\n",
    "                answer[0].append(node)\n",
    "                answer[1].append(node)\n",
    "            \n",
    "    travel([],root)\n",
    "              \n",
    "    return answer\n",
    "\n",
    "nodeinfo = [[5,3],[11,5],[13,3],[3,5],[6,1],[1,3],[8,6],[7,2],[2,2]]\n",
    "solution(nodeinfo)\n"
   ]
  },
  {
   "cell_type": "code",
   "execution_count": 10,
   "metadata": {},
   "outputs": [
    {
     "ename": "SyntaxError",
     "evalue": "invalid syntax (3959529513.py, line 24)",
     "output_type": "error",
     "traceback": [
      "\u001b[1;36m  Cell \u001b[1;32mIn[10], line 24\u001b[1;36m\u001b[0m\n\u001b[1;33m    return [[sum(a*b for a, b in zip(A_row,B_col)) for B_col in *B] for A_row in A]\u001b[0m\n\u001b[1;37m                                                                ^\u001b[0m\n\u001b[1;31mSyntaxError\u001b[0m\u001b[1;31m:\u001b[0m invalid syntax\n"
     ]
    }
   ],
   "source": [
    "# def solution(arr1, arr2):\n",
    "#     w2 = len(arr2[0])\n",
    "#     h2 = len(arr2)\n",
    "#     new_arr2=[]\n",
    "#     for i in range(w2):\n",
    "#         tmp = []\n",
    "#         for j in range(h2):\n",
    "#             tmp.append(arr2[j][i])\n",
    "#         new_arr2.append(tmp)\n",
    "#     print(new_arr2)\n",
    "#     answer=[]\n",
    "#     for m in arr1:\n",
    "#         tmp = []\n",
    "#         for l in new_arr2:\n",
    "#             print(m,l)\n",
    "#             x=0\n",
    "#             for j in range(len(arr1[0])):\n",
    "#                 x+=m[j]*l[j]\n",
    "#             tmp.append(x)\n",
    "#         answer.append(tmp)\n",
    "#     return answer\n",
    "\n",
    "def solution(A, B):\n",
    "    return [[sum(a*b for a, b in zip(A_row,B_col)) for B_col in B] for A_row in A]\n",
    "\n",
    "arr1 = [[2, 3, 2], [4, 2, 4], [3, 1, 4]]\n",
    "arr2 = [[5, 4, 3], [2, 4, 1], [3, 1, 1]]\n",
    "\n",
    "solution(arr1,arr2)"
   ]
  },
  {
   "cell_type": "code",
   "execution_count": 15,
   "metadata": {},
   "outputs": [
    {
     "name": "stdout",
     "output_type": "stream",
     "text": [
      "(5, 2, 3)\n",
      "(4, 4, 1)\n",
      "(3, 1, 1)\n"
     ]
    }
   ],
   "source": [
    "arr2 = [[5, 4, 3], [2, 4, 1], [3, 1, 1]]\n",
    "for i in zip(*arr2):\n",
    "    print(i)"
   ]
  },
  {
   "cell_type": "code",
   "execution_count": 2,
   "metadata": {},
   "outputs": [
    {
     "data": {
      "text/plain": [
       "True"
      ]
     },
     "execution_count": 2,
     "metadata": {},
     "output_type": "execute_result"
    }
   ],
   "source": [
    "lst1 = [1,1,2]\n",
    "lst2 = [1,1,2]\n",
    "lst1==lst2"
   ]
  },
  {
   "cell_type": "markdown",
   "metadata": {},
   "source": []
  },
  {
   "cell_type": "code",
   "execution_count": 64,
   "metadata": {},
   "outputs": [
    {
     "name": "stdout",
     "output_type": "stream",
     "text": [
      "[[[0 0 0]\n",
      "  [0 0 0]\n",
      "  [0 0 0]\n",
      "  ...\n",
      "  [0 0 0]\n",
      "  [0 0 0]\n",
      "  [0 0 0]]\n",
      "\n",
      " [[0 0 0]\n",
      "  [0 0 0]\n",
      "  [0 0 0]\n",
      "  ...\n",
      "  [0 0 0]\n",
      "  [0 0 0]\n",
      "  [0 0 0]]\n",
      "\n",
      " [[0 0 0]\n",
      "  [0 0 0]\n",
      "  [0 0 0]\n",
      "  ...\n",
      "  [0 0 0]\n",
      "  [0 0 0]\n",
      "  [0 0 0]]\n",
      "\n",
      " ...\n",
      "\n",
      " [[0 0 0]\n",
      "  [0 0 0]\n",
      "  [0 0 0]\n",
      "  ...\n",
      "  [0 0 0]\n",
      "  [0 0 0]\n",
      "  [0 0 0]]\n",
      "\n",
      " [[0 0 0]\n",
      "  [0 0 0]\n",
      "  [0 0 0]\n",
      "  ...\n",
      "  [0 0 0]\n",
      "  [0 0 0]\n",
      "  [0 0 0]]\n",
      "\n",
      " [[0 0 0]\n",
      "  [0 0 0]\n",
      "  [0 0 0]\n",
      "  ...\n",
      "  [0 0 0]\n",
      "  [0 0 0]\n",
      "  [0 0 0]]]\n",
      "4.8.0\n"
     ]
    }
   ],
   "source": [
    "import cv2\n",
    "import os\n",
    "img = cv2.imread('mark3.png')\n",
    "new_img = cv2.resize(img,(16,16))\n",
    "cv2.imwrite('mark11.png',new_img)\n",
    "print(img)\n",
    "print(cv2.__version__)\n"
   ]
  }
 ],
 "metadata": {
  "kernelspec": {
   "display_name": "Python 3",
   "language": "python",
   "name": "python3"
  },
  "language_info": {
   "codemirror_mode": {
    "name": "ipython",
    "version": 3
   },
   "file_extension": ".py",
   "mimetype": "text/x-python",
   "name": "python",
   "nbconvert_exporter": "python",
   "pygments_lexer": "ipython3",
   "version": "3.10.12"
  },
  "orig_nbformat": 4
 },
 "nbformat": 4,
 "nbformat_minor": 2
}
