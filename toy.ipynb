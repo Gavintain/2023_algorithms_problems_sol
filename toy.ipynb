{
 "cells": [
  {
   "cell_type": "code",
   "execution_count": 57,
   "metadata": {},
   "outputs": [
    {
     "name": "stdout",
     "output_type": "stream",
     "text": [
      "7\n",
      "4\n",
      "6\n",
      "9\n",
      "1\n",
      "8\n",
      "5\n",
      "2\n",
      "3\n"
     ]
    },
    {
     "data": {
      "text/plain": [
       "[[7, 4, 6, 9, 1, 8, 5, 2, 3], [9, 6, 5, 8, 1, 4, 3, 2, 7]]"
      ]
     },
     "execution_count": 57,
     "metadata": {},
     "output_type": "execute_result"
    }
   ],
   "source": [
    "from collections import defaultdict\n",
    "import sys\n",
    "sys.setrecursionlimit(10**6)\n",
    "\n",
    "def solution(nodeinfo):\n",
    "    y_node_dict = defaultdict(list)\n",
    "    node_x_dict = defaultdict(int)\n",
    "    node_y_dict = defaultdict(int)\n",
    "    for i in range(len(nodeinfo)):\n",
    "        node_xy = nodeinfo[i]\n",
    "        node_num = i+1\n",
    "        y_node_dict[node_xy[1]].append(node_num)\n",
    "        node_x_dict[node_num] = node_xy[0]\n",
    "        node_y_dict[node_num] = node_xy[1]\n",
    "    \n",
    "    y_lst = sorted(list(y_node_dict.keys()))\n",
    "    max_y = y_lst[-1]\n",
    "    root = y_node_dict[max_y][0]\n",
    "\n",
    "    def consistent_check(parent_lst,node,child):\n",
    "        for ancestor in parent_lst:\n",
    "            if (node_x_dict[node]<node_x_dict[ancestor]) == (node_x_dict[child]<node_x_dict[ancestor]):\n",
    "                pass\n",
    "            else:\n",
    "                return False\n",
    "        return True\n",
    "    \n",
    "    # def has_left(parent_lst,node):\n",
    "    #     node_y = node_y_dict[node]\n",
    "    #     index = y_lst.index(node_y)-1\n",
    "    #     if index<0:\n",
    "    #         return [False,None]\n",
    "    #     else:\n",
    "    #         child_ylevel = y_lst[index]\n",
    "    #         child_lst = y_node_dict[child_ylevel]\n",
    "    #         for child in child_lst:\n",
    "    #             if node_x_dict[child]<node_x_dict[node]:\n",
    "    #                 if consistent_check(parent_lst,node,child):\n",
    "    #                     return [True,child]\n",
    "    #         return [False,None]\n",
    "    \n",
    "    # def has_right(parent_lst,node):\n",
    "    #     node_y = node_y_dict[node]\n",
    "    #     index = y_lst.index(node_y)-1\n",
    "    #     if index<0:\n",
    "    #         return [False,None]\n",
    "    #     else:\n",
    "    #         child_ylevel = y_lst[index]\n",
    "    #         child_lst = y_node_dict[child_ylevel]\n",
    "    #         for child in child_lst:\n",
    "    #             if node_x_dict[child]>node_x_dict[node]:\n",
    "    #                 if consistent_check(parent_lst,node,child):\n",
    "    #                     return [True,child]\n",
    "    #         return [False,None]\n",
    "        \n",
    "    def has_child(parent_lst,node):\n",
    "        node_y = node_y_dict[node]\n",
    "        index = y_lst.index(node_y)-1\n",
    "        exist = False\n",
    "        left = None\n",
    "        right = None\n",
    "        if index<0:\n",
    "            return [False,None,None]\n",
    "        else:\n",
    "            child_ylevel = y_lst[index]\n",
    "            child_lst = y_node_dict[child_ylevel]\n",
    "            for child in child_lst:\n",
    "                if right !=None and left !=None:\n",
    "                    break\n",
    "                else:\n",
    "                    if node_x_dict[child]>node_x_dict[node]:\n",
    "                        if consistent_check(parent_lst,node,child):\n",
    "                            right  = child\n",
    "                            exist = True\n",
    "                    elif node_x_dict[child]<node_x_dict[node]:\n",
    "                        if consistent_check(parent_lst,node,child):\n",
    "                            left = child\n",
    "                            exist = True\n",
    "                    else:\n",
    "                        continue\n",
    "            return [exist,left,right]\n",
    "        \n",
    "    \n",
    "    # def pre_order(parent_lst,node):\n",
    "    #     if node == None:\n",
    "    #         return []\n",
    "    #     else:\n",
    "    #         child = has_child(parent_lst,node)\n",
    "    #         new_parent_lst = parent_lst + [node]\n",
    "    #         if child[0]:\n",
    "    #             return [node] + pre_order(new_parent_lst,child[1]) + pre_order(new_parent_lst,child[2])\n",
    "    #         else:\n",
    "    #             return [node]\n",
    "            \n",
    "    # def post_order(parent_lst,node):\n",
    "    #     if node == None:\n",
    "    #         return []\n",
    "    #     else:\n",
    "    #         child = has_child(parent_lst,node)\n",
    "    #         new_parent_lst = parent_lst + [node]\n",
    "    #         if child[0]:\n",
    "    #             return post_order(new_parent_lst,child[1]) + post_order(new_parent_lst,child[2]) + [node] \n",
    "    #         else:\n",
    "    #             return [node]\n",
    "\n",
    "    answer=[[],[]]\n",
    "\n",
    "    def travel(parent_lst,node):\n",
    "        if node == None:\n",
    "            return []\n",
    "        else:\n",
    "            child = has_child(parent_lst,node)\n",
    "            new_parent_lst = parent_lst + [node]\n",
    "            print(node)\n",
    "            if child[0]:\n",
    "                answer[0].append(node)\n",
    "                travel(new_parent_lst,child[1])\n",
    "                travel(new_parent_lst,child[2])\n",
    "                answer[1].append(node) \n",
    "            else:\n",
    "                answer[0].append(node)\n",
    "                answer[1].append(node)\n",
    "            \n",
    "    travel([],root)\n",
    "              \n",
    "    return answer\n",
    "\n",
    "nodeinfo = [[5,3],[11,5],[13,3],[3,5],[6,1],[1,3],[8,6],[7,2],[2,2]]\n",
    "solution(nodeinfo)\n"
   ]
  },
  {
   "cell_type": "code",
   "execution_count": 48,
   "metadata": {},
   "outputs": [
    {
     "data": {
      "text/plain": [
       "['100', '200', '300', '500', '20']"
      ]
     },
     "execution_count": 48,
     "metadata": {},
     "output_type": "execute_result"
    }
   ],
   "source": [
    "import re\n",
    "from itertools import permutations\n",
    "\n",
    "expression = \"100-200*300-500+20\"\n",
    "new_num_list = re.split('[*+-]',expression)\n",
    "new_num_list"
   ]
  },
  {
   "cell_type": "code",
   "execution_count": 102,
   "metadata": {},
   "outputs": [
    {
     "name": "stdout",
     "output_type": "stream",
     "text": [
      "100\n",
      "200*300\n",
      "500+20\n",
      "['((100))', '((200*300))', '((500)+(20))']\n",
      "((100))-((200*300))-((500)+(20))\n",
      "60420\n"
     ]
    },
    {
     "data": {
      "text/plain": [
       "60420"
      ]
     },
     "execution_count": 102,
     "metadata": {},
     "output_type": "execute_result"
    }
   ],
   "source": [
    "import re\n",
    "from itertools import permutations\n",
    "\n",
    "def solution(expression):\n",
    "    operations = [('+', '-', '*'),('+', '*', '-'),('-', '+', '*'),('-', '*', '+'),('*', '+', '-'),('*', '-', '+')]\n",
    "    max = 0\n",
    "    for op in operations:\n",
    "        a = op[2]\n",
    "        b = op[1]\n",
    "        temp_list = []\n",
    "        for e1 in expression.split(a):\n",
    "            print(e1)\n",
    "            s_temp_list = []\n",
    "            for e2 in e1.split(b):\n",
    "                s_temp_list.append(f'({e2})')\n",
    "            temp = f'{b}'.join(s_temp_list)\n",
    "            temp_list.append(f'({temp})')\n",
    "        s_answer = f'{a}'.join(temp_list)\n",
    "        n_answer = abs(eval(s_answer))\n",
    "        if max < n_answer:\n",
    "            max = n_answer\n",
    "    return max\n",
    "\n",
    "expression = \"100-200*300-500+20\"\n",
    "solution(expression)\n",
    "\n",
    "\n"
   ]
  },
  {
   "cell_type": "code",
   "execution_count": 7,
   "metadata": {},
   "outputs": [
    {
     "name": "stdout",
     "output_type": "stream",
     "text": [
      "[-45]\n",
      "[-45, 653]\n",
      "[-642, -45]\n",
      "[-642, -45, 45]\n",
      "[-642, -45, 45, 97]\n",
      "[-45, 45, 333]\n"
     ]
    },
    {
     "data": {
      "text/plain": [
       "[333, -45]"
      ]
     },
     "execution_count": 7,
     "metadata": {},
     "output_type": "execute_result"
    }
   ],
   "source": [
    "def solution(operations):\n",
    "    lst = []\n",
    "    for operation in operations:\n",
    "        operation = operation.split()\n",
    "        command = operation[0]\n",
    "        if command == 'I':\n",
    "            num = int(operation[1])\n",
    "            lst.append(num)\n",
    "            lst.sort()\n",
    "            print(lst)\n",
    "        else:\n",
    "            if operation[1] == '-1':\n",
    "                if len(lst)<1:\n",
    "                    pass\n",
    "                else:   \n",
    "                    lst.pop(0)\n",
    "            else:\n",
    "                if len(lst)<1:\n",
    "                    pass\n",
    "                else:   \n",
    "                    lst.pop()\n",
    "    if len(lst)<1:\n",
    "        return [0,0]\n",
    "    else:\n",
    "        return [lst[-1],lst[0]]\n",
    "    \n",
    "operations = [\"I -45\", \"I 653\", \"D 1\", \"I -642\", \"I 45\", \"I 97\", \"D 1\", \"D -1\", \"I 333\"]\n",
    "solution(operations)\n",
    "    "
   ]
  },
  {
   "cell_type": "markdown",
   "metadata": {},
   "source": []
  },
  {
   "cell_type": "code",
   "execution_count": 64,
   "metadata": {},
   "outputs": [
    {
     "name": "stdout",
     "output_type": "stream",
     "text": [
      "[[[0 0 0]\n",
      "  [0 0 0]\n",
      "  [0 0 0]\n",
      "  ...\n",
      "  [0 0 0]\n",
      "  [0 0 0]\n",
      "  [0 0 0]]\n",
      "\n",
      " [[0 0 0]\n",
      "  [0 0 0]\n",
      "  [0 0 0]\n",
      "  ...\n",
      "  [0 0 0]\n",
      "  [0 0 0]\n",
      "  [0 0 0]]\n",
      "\n",
      " [[0 0 0]\n",
      "  [0 0 0]\n",
      "  [0 0 0]\n",
      "  ...\n",
      "  [0 0 0]\n",
      "  [0 0 0]\n",
      "  [0 0 0]]\n",
      "\n",
      " ...\n",
      "\n",
      " [[0 0 0]\n",
      "  [0 0 0]\n",
      "  [0 0 0]\n",
      "  ...\n",
      "  [0 0 0]\n",
      "  [0 0 0]\n",
      "  [0 0 0]]\n",
      "\n",
      " [[0 0 0]\n",
      "  [0 0 0]\n",
      "  [0 0 0]\n",
      "  ...\n",
      "  [0 0 0]\n",
      "  [0 0 0]\n",
      "  [0 0 0]]\n",
      "\n",
      " [[0 0 0]\n",
      "  [0 0 0]\n",
      "  [0 0 0]\n",
      "  ...\n",
      "  [0 0 0]\n",
      "  [0 0 0]\n",
      "  [0 0 0]]]\n",
      "4.8.0\n"
     ]
    }
   ],
   "source": [
    "import cv2\n",
    "import os\n",
    "img = cv2.imread('mark3.png')\n",
    "new_img = cv2.resize(img,(16,16))\n",
    "cv2.imwrite('mark11.png',new_img)\n",
    "print(img)\n",
    "print(cv2.__version__)\n"
   ]
  }
 ],
 "metadata": {
  "kernelspec": {
   "display_name": "Python 3",
   "language": "python",
   "name": "python3"
  },
  "language_info": {
   "codemirror_mode": {
    "name": "ipython",
    "version": 3
   },
   "file_extension": ".py",
   "mimetype": "text/x-python",
   "name": "python",
   "nbconvert_exporter": "python",
   "pygments_lexer": "ipython3",
   "version": "3.10.12"
  },
  "orig_nbformat": 4
 },
 "nbformat": 4,
 "nbformat_minor": 2
}
